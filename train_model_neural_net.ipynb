{
 "cells": [
  {
   "cell_type": "code",
   "execution_count": 5,
   "metadata": {},
   "outputs": [
    {
     "name": "stderr",
     "output_type": "stream",
     "text": [
      "Using TensorFlow backend.\n"
     ]
    }
   ],
   "source": [
    "import pandas as pd\n",
    "import pickle\n",
    "import numpy as np\n",
    "\n",
    "from keras.models import Sequential\n",
    "from keras.layers import Dense, Dropout\n",
    "from keras.callbacks import TensorBoard, EarlyStopping\n",
    "from keras.optimizers import RMSprop, Adagrad, Adam\n",
    "#from keras.metrics import precision as prec_metric\n",
    "import keras.backend as K\n",
    "import numpy\n",
    "# fix random seed for reproducibility\n",
    "numpy.random.seed(7)\n",
    "\n",
    "from sklearn.preprocessing import OneHotEncoder, StandardScaler\n",
    "from sklearn.model_selection import train_test_split, GridSearchCV, StratifiedKFold, KFold,StratifiedShuffleSplit\n",
    "from sklearn.metrics import f1_score, accuracy_score, precision_score, recall_score,roc_auc_score, roc_curve, average_precision_score,precision_recall_curve\n",
    "import matplotlib.pyplot as plt\n",
    "%matplotlib inline"
   ]
  },
  {
   "cell_type": "code",
   "execution_count": 6,
   "metadata": {},
   "outputs": [
    {
     "data": {
      "text/html": [
       "<div>\n",
       "<style scoped>\n",
       "    .dataframe tbody tr th:only-of-type {\n",
       "        vertical-align: middle;\n",
       "    }\n",
       "\n",
       "    .dataframe tbody tr th {\n",
       "        vertical-align: top;\n",
       "    }\n",
       "\n",
       "    .dataframe thead th {\n",
       "        text-align: right;\n",
       "    }\n",
       "</style>\n",
       "<table border=\"1\" class=\"dataframe\">\n",
       "  <thead>\n",
       "    <tr style=\"text-align: right;\">\n",
       "      <th></th>\n",
       "      <th>timestamp</th>\n",
       "      <th>segment_id</th>\n",
       "      <th>station_id</th>\n",
       "      <th>hour</th>\n",
       "      <th>weekday</th>\n",
       "      <th>month</th>\n",
       "      <th>pre_dir</th>\n",
       "      <th>street_type</th>\n",
       "      <th>suf_dir</th>\n",
       "      <th>one_way</th>\n",
       "      <th>...</th>\n",
       "      <th>visibility</th>\n",
       "      <th>temperature</th>\n",
       "      <th>precip_depth</th>\n",
       "      <th>snow_depth</th>\n",
       "      <th>snowing</th>\n",
       "      <th>raining</th>\n",
       "      <th>foggy</th>\n",
       "      <th>icy</th>\n",
       "      <th>hailing</th>\n",
       "      <th>thunderstorm</th>\n",
       "    </tr>\n",
       "  </thead>\n",
       "  <tbody>\n",
       "    <tr>\n",
       "      <th>0</th>\n",
       "      <td>2010-01-01 09:00:00+00:00</td>\n",
       "      <td>21821</td>\n",
       "      <td>72470093141</td>\n",
       "      <td>2</td>\n",
       "      <td>4</td>\n",
       "      <td>1</td>\n",
       "      <td>S</td>\n",
       "      <td>ST</td>\n",
       "      <td></td>\n",
       "      <td>0</td>\n",
       "      <td>...</td>\n",
       "      <td>16093.0</td>\n",
       "      <td>-7.2</td>\n",
       "      <td>0.0</td>\n",
       "      <td>0.0</td>\n",
       "      <td>0.0</td>\n",
       "      <td>0.0</td>\n",
       "      <td>0.0</td>\n",
       "      <td>0.0</td>\n",
       "      <td>0.0</td>\n",
       "      <td>0.0</td>\n",
       "    </tr>\n",
       "    <tr>\n",
       "      <th>1</th>\n",
       "      <td>2010-01-01 18:00:00+00:00</td>\n",
       "      <td>32221</td>\n",
       "      <td>72470093141</td>\n",
       "      <td>11</td>\n",
       "      <td>4</td>\n",
       "      <td>1</td>\n",
       "      <td>S</td>\n",
       "      <td></td>\n",
       "      <td></td>\n",
       "      <td>0</td>\n",
       "      <td>...</td>\n",
       "      <td>16093.0</td>\n",
       "      <td>-5.0</td>\n",
       "      <td>0.0</td>\n",
       "      <td>0.0</td>\n",
       "      <td>0.0</td>\n",
       "      <td>0.0</td>\n",
       "      <td>0.0</td>\n",
       "      <td>0.0</td>\n",
       "      <td>0.0</td>\n",
       "      <td>0.0</td>\n",
       "    </tr>\n",
       "    <tr>\n",
       "      <th>2</th>\n",
       "      <td>2010-01-02 09:00:00+00:00</td>\n",
       "      <td>42886</td>\n",
       "      <td>72470093141</td>\n",
       "      <td>2</td>\n",
       "      <td>5</td>\n",
       "      <td>1</td>\n",
       "      <td>E</td>\n",
       "      <td></td>\n",
       "      <td></td>\n",
       "      <td>0</td>\n",
       "      <td>...</td>\n",
       "      <td>16093.0</td>\n",
       "      <td>-13.3</td>\n",
       "      <td>0.0</td>\n",
       "      <td>0.0</td>\n",
       "      <td>0.0</td>\n",
       "      <td>0.0</td>\n",
       "      <td>0.0</td>\n",
       "      <td>0.0</td>\n",
       "      <td>0.0</td>\n",
       "      <td>0.0</td>\n",
       "    </tr>\n",
       "    <tr>\n",
       "      <th>3</th>\n",
       "      <td>2010-01-03 01:00:00+00:00</td>\n",
       "      <td>28854</td>\n",
       "      <td>72470093141</td>\n",
       "      <td>18</td>\n",
       "      <td>5</td>\n",
       "      <td>1</td>\n",
       "      <td>W</td>\n",
       "      <td></td>\n",
       "      <td></td>\n",
       "      <td>0</td>\n",
       "      <td>...</td>\n",
       "      <td>16093.0</td>\n",
       "      <td>-11.1</td>\n",
       "      <td>0.0</td>\n",
       "      <td>0.0</td>\n",
       "      <td>0.0</td>\n",
       "      <td>0.0</td>\n",
       "      <td>0.0</td>\n",
       "      <td>0.0</td>\n",
       "      <td>0.0</td>\n",
       "      <td>0.0</td>\n",
       "    </tr>\n",
       "    <tr>\n",
       "      <th>4</th>\n",
       "      <td>2010-01-03 15:00:00+00:00</td>\n",
       "      <td>11320</td>\n",
       "      <td>72470093141</td>\n",
       "      <td>8</td>\n",
       "      <td>6</td>\n",
       "      <td>1</td>\n",
       "      <td>E</td>\n",
       "      <td></td>\n",
       "      <td></td>\n",
       "      <td>0</td>\n",
       "      <td>...</td>\n",
       "      <td>16093.0</td>\n",
       "      <td>-8.9</td>\n",
       "      <td>0.0</td>\n",
       "      <td>0.0</td>\n",
       "      <td>0.0</td>\n",
       "      <td>0.0</td>\n",
       "      <td>0.0</td>\n",
       "      <td>0.0</td>\n",
       "      <td>0.0</td>\n",
       "      <td>0.0</td>\n",
       "    </tr>\n",
       "  </tbody>\n",
       "</table>\n",
       "<p>5 rows × 34 columns</p>\n",
       "</div>"
      ],
      "text/plain": [
       "                   timestamp  segment_id   station_id  hour  weekday  month  \\\n",
       "0  2010-01-01 09:00:00+00:00       21821  72470093141     2        4      1   \n",
       "1  2010-01-01 18:00:00+00:00       32221  72470093141    11        4      1   \n",
       "2  2010-01-02 09:00:00+00:00       42886  72470093141     2        5      1   \n",
       "3  2010-01-03 01:00:00+00:00       28854  72470093141    18        5      1   \n",
       "4  2010-01-03 15:00:00+00:00       11320  72470093141     8        6      1   \n",
       "\n",
       "  pre_dir street_type suf_dir  one_way      ...       visibility temperature  \\\n",
       "0       S          ST                0      ...          16093.0        -7.2   \n",
       "1       S                            0      ...          16093.0        -5.0   \n",
       "2       E                            0      ...          16093.0       -13.3   \n",
       "3       W                            0      ...          16093.0       -11.1   \n",
       "4       E                            0      ...          16093.0        -8.9   \n",
       "\n",
       "   precip_depth  snow_depth  snowing  raining  foggy  icy  hailing  \\\n",
       "0           0.0         0.0      0.0      0.0    0.0  0.0      0.0   \n",
       "1           0.0         0.0      0.0      0.0    0.0  0.0      0.0   \n",
       "2           0.0         0.0      0.0      0.0    0.0  0.0      0.0   \n",
       "3           0.0         0.0      0.0      0.0    0.0  0.0      0.0   \n",
       "4           0.0         0.0      0.0      0.0    0.0  0.0      0.0   \n",
       "\n",
       "   thunderstorm  \n",
       "0           0.0  \n",
       "1           0.0  \n",
       "2           0.0  \n",
       "3           0.0  \n",
       "4           0.0  \n",
       "\n",
       "[5 rows x 34 columns]"
      ]
     },
     "execution_count": 6,
     "metadata": {},
     "output_type": "execute_result"
    }
   ],
   "source": [
    "# Load the training set\n",
    "df = pd.read_csv('training_data/utah_training_set.csv').drop(columns=['fid','index','join_key'],errors='ignore')\n",
    "df = df.dropna(how='any',axis=0)\n",
    "df.head()"
   ]
  },
  {
   "cell_type": "code",
   "execution_count": 7,
   "metadata": {},
   "outputs": [],
   "source": [
    "ohe_fields=['one_way','hour','weekday','month']\n",
    "df_ohe = pd.get_dummies(df,columns=ohe_fields)"
   ]
  },
  {
   "cell_type": "markdown",
   "metadata": {},
   "source": [
    "# Continuous Features\n",
    "These are currently:\n",
    "* Historical Accident Count\n",
    "* Speed Limit (if available)\n",
    "* Sinuosity (Road curavture metric)\n",
    "* AADT (Annual Average Daily Traffic)\n",
    "* Precipitation Depth\n",
    "* Snow Depth\n",
    "* Temperature\n",
    "* Visibility\n",
    "* Wind SPeed\n",
    "* Road Orientation"
   ]
  },
  {
   "cell_type": "code",
   "execution_count": 8,
   "metadata": {
    "collapsed": true
   },
   "outputs": [],
   "source": [
    "float_feature_names = [\n",
    "    'accident_counts',\n",
    "    'speed_limit',\n",
    "    'aadt',\n",
    "    'surface_width',\n",
    "    'sinuosity',\n",
    "    'euclidean_length',\n",
    "    'segment_length',\n",
    "    'road_orient_approx',\n",
    "    'precip_depth',\n",
    "    'snow_depth',\n",
    "    'temperature',\n",
    "    'visibility',\n",
    "    'wind_speed'\n",
    "]\n",
    "float_features = df_ohe.xs(float_feature_names,axis=1).values\n",
    "\n",
    "scaler = StandardScaler()\n",
    "'''\n",
    "# Not using sklearn's scaler because I have a bunch of missing data and was feeling lazy. :)\n",
    "mean_float = np.nanmean(float_features,axis=0)\n",
    "std_float = np.nanstd(float_features,axis=0)\n",
    "\n",
    "float_scaled = (float_features - mean_float) / std_float\n",
    "'''\n",
    "float_scaled = scaler.fit_transform(float_features)\n",
    "\n",
    "for i,fname in enumerate(float_feature_names):\n",
    "    df_ohe[fname] = float_scaled[:,i]\n",
    "\n",
    "with open('scalers.pkl','wb') as fp:\n",
    "    pickle.dump(scaler,fp)\n"
   ]
  },
  {
   "cell_type": "code",
   "execution_count": 10,
   "metadata": {
    "collapsed": true
   },
   "outputs": [],
   "source": [
    "y = df['target'].values\n",
    "drop_columns = ['index',\n",
    "                'join_key',\n",
    "                'segment_id',\n",
    "                'station_id',\n",
    "                'timestamp',\n",
    "                'target',\n",
    "                'fid',\n",
    "                'COFIPS',\n",
    "                'street_type',\n",
    "                'pre_dir',\n",
    "                'surface_type',\n",
    "                'suf_dir']\n",
    "df_ohe = df_ohe.drop(columns=drop_columns,errors='ignore')"
   ]
  },
  {
   "cell_type": "code",
   "execution_count": 11,
   "metadata": {
    "collapsed": true
   },
   "outputs": [],
   "source": [
    "X = df_ohe.values\n",
    "y = df['target'].values"
   ]
  },
  {
   "cell_type": "code",
   "execution_count": 12,
   "metadata": {},
   "outputs": [
    {
     "data": {
      "text/plain": [
       "68"
      ]
     },
     "execution_count": 12,
     "metadata": {},
     "output_type": "execute_result"
    }
   ],
   "source": [
    "feature_names = df_ohe.columns.tolist()\n",
    "len(feature_names)"
   ]
  },
  {
   "cell_type": "code",
   "execution_count": 13,
   "metadata": {},
   "outputs": [
    {
     "name": "stdout",
     "output_type": "stream",
     "text": [
      "['speed_limit', 'surface_width', 'aadt', 'sinuosity', 'euclidean_length', 'segment_length', 'near_major_road', 'road_orient_approx', 'at_intersection', 'near_billboard', 'accident_counts', 'wind_speed', 'visibility', 'temperature', 'precip_depth', 'snow_depth', 'snowing', 'raining', 'foggy', 'icy', 'hailing', 'thunderstorm', 'one_way_0', 'one_way_1', 'one_way_2', 'hour_0', 'hour_1', 'hour_2', 'hour_3', 'hour_4', 'hour_5', 'hour_6', 'hour_7', 'hour_8', 'hour_9', 'hour_10', 'hour_11', 'hour_12', 'hour_13', 'hour_14', 'hour_15', 'hour_16', 'hour_17', 'hour_18', 'hour_19', 'hour_20', 'hour_21', 'hour_22', 'hour_23', 'weekday_0', 'weekday_1', 'weekday_2', 'weekday_3', 'weekday_4', 'weekday_5', 'weekday_6', 'month_1', 'month_2', 'month_3', 'month_4', 'month_5', 'month_6', 'month_7', 'month_8', 'month_9', 'month_10', 'month_11', 'month_12']\n"
     ]
    }
   ],
   "source": [
    "print(feature_names)"
   ]
  },
  {
   "cell_type": "code",
   "execution_count": 14,
   "metadata": {
    "collapsed": true
   },
   "outputs": [],
   "source": [
    "wrangler = {\n",
    "    'scaler': scaler,\n",
    "    'float_feature_names': float_feature_names,\n",
    "    'drop_columns': drop_columns,\n",
    "    'ohe_fields': ohe_fields,\n",
    "    'feature_names': feature_names\n",
    "}\n",
    "with open('wrangler_nn.pkl','wb') as fp:\n",
    "    pickle.dump(wrangler,fp)"
   ]
  },
  {
   "cell_type": "code",
   "execution_count": 75,
   "metadata": {
    "collapsed": true
   },
   "outputs": [],
   "source": [
    "# create model\n",
    "model = Sequential()\n",
    "model.add(Dense(50, input_dim=X.shape[1], activation='tanh'))\n",
    "model.add(Dropout(0.5))\n",
    "model.add(Dense(35, activation='tanh'))\n",
    "model.add(Dropout(0.5))\n",
    "model.add(Dense(15, activation='tanh'))\n",
    "model.add(Dropout(0.5))\n",
    "model.add(Dense(1, activation='sigmoid'))"
   ]
  },
  {
   "cell_type": "code",
   "execution_count": 76,
   "metadata": {
    "collapsed": true
   },
   "outputs": [],
   "source": [
    "optimizer = Adam()"
   ]
  },
  {
   "cell_type": "code",
   "execution_count": 77,
   "metadata": {},
   "outputs": [
    {
     "name": "stdout",
     "output_type": "stream",
     "text": [
      "Train on 1774046 samples, validate on 197117 samples\n",
      "Epoch 1/50\n",
      "1774046/1774046 [==============================] - 6s 3us/step - loss: 0.5542 - val_loss: 0.4977\n",
      "Epoch 2/50\n",
      "1774046/1774046 [==============================] - 5s 3us/step - loss: 0.5102 - val_loss: 0.4900\n",
      "Epoch 3/50\n",
      "1774046/1774046 [==============================] - 5s 3us/step - loss: 0.5022 - val_loss: 0.4874\n",
      "Epoch 4/50\n",
      "1774046/1774046 [==============================] - 5s 3us/step - loss: 0.4983 - val_loss: 0.4861\n",
      "Epoch 5/50\n",
      "1774046/1774046 [==============================] - 5s 3us/step - loss: 0.4956 - val_loss: 0.4848\n",
      "Epoch 6/50\n",
      "1774046/1774046 [==============================] - 6s 3us/step - loss: 0.4932 - val_loss: 0.4841\n",
      "Epoch 7/50\n",
      "1774046/1774046 [==============================] - 6s 3us/step - loss: 0.4914 - val_loss: 0.4833\n",
      "Epoch 8/50\n",
      "1774046/1774046 [==============================] - 6s 3us/step - loss: 0.4897 - val_loss: 0.4825\n",
      "Epoch 9/50\n",
      "1774046/1774046 [==============================] - 6s 3us/step - loss: 0.4883 - val_loss: 0.4817\n",
      "Epoch 10/50\n",
      "1774046/1774046 [==============================] - 6s 3us/step - loss: 0.4866 - val_loss: 0.4803\n",
      "Epoch 11/50\n",
      "1774046/1774046 [==============================] - 5s 3us/step - loss: 0.4851 - val_loss: 0.4788\n",
      "Epoch 12/50\n",
      "1774046/1774046 [==============================] - 5s 3us/step - loss: 0.4833 - val_loss: 0.4774\n",
      "Epoch 13/50\n",
      "1774046/1774046 [==============================] - 6s 3us/step - loss: 0.4819 - val_loss: 0.4761\n",
      "Epoch 14/50\n",
      "1774046/1774046 [==============================] - 6s 3us/step - loss: 0.4806 - val_loss: 0.4751\n",
      "Epoch 15/50\n",
      "1774046/1774046 [==============================] - 6s 3us/step - loss: 0.4798 - val_loss: 0.4748\n",
      "Epoch 16/50\n",
      "1774046/1774046 [==============================] - 5s 3us/step - loss: 0.4789 - val_loss: 0.4741\n",
      "Epoch 17/50\n",
      "1774046/1774046 [==============================] - 5s 3us/step - loss: 0.4783 - val_loss: 0.4740\n",
      "Epoch 18/50\n",
      "1774046/1774046 [==============================] - 5s 3us/step - loss: 0.4779 - val_loss: 0.4734\n",
      "Epoch 19/50\n",
      "1774046/1774046 [==============================] - 5s 3us/step - loss: 0.4774 - val_loss: 0.4732\n",
      "Epoch 20/50\n",
      "1774046/1774046 [==============================] - 5s 3us/step - loss: 0.4770 - val_loss: 0.4727\n",
      "Epoch 21/50\n",
      "1774046/1774046 [==============================] - 5s 3us/step - loss: 0.4764 - val_loss: 0.4721\n",
      "Epoch 22/50\n",
      "1774046/1774046 [==============================] - 5s 3us/step - loss: 0.4760 - val_loss: 0.4719\n",
      "Epoch 23/50\n",
      "1774046/1774046 [==============================] - 5s 3us/step - loss: 0.4757 - val_loss: 0.4714\n",
      "Epoch 24/50\n",
      "1774046/1774046 [==============================] - 5s 3us/step - loss: 0.4752 - val_loss: 0.4705\n",
      "Epoch 25/50\n",
      "1774046/1774046 [==============================] - 6s 3us/step - loss: 0.4748 - val_loss: 0.4702\n",
      "Epoch 26/50\n",
      "1774046/1774046 [==============================] - 6s 3us/step - loss: 0.4745 - val_loss: 0.4697\n",
      "Epoch 27/50\n",
      "1774046/1774046 [==============================] - 6s 3us/step - loss: 0.4741 - val_loss: 0.4691\n",
      "Epoch 28/50\n",
      "1774046/1774046 [==============================] - 6s 3us/step - loss: 0.4737 - val_loss: 0.4685\n",
      "Epoch 29/50\n",
      "1774046/1774046 [==============================] - 6s 3us/step - loss: 0.4733 - val_loss: 0.4687\n",
      "Epoch 30/50\n",
      "1774046/1774046 [==============================] - 6s 3us/step - loss: 0.4728 - val_loss: 0.4677\n",
      "Epoch 31/50\n",
      "1774046/1774046 [==============================] - 6s 4us/step - loss: 0.4726 - val_loss: 0.4675\n",
      "Epoch 32/50\n",
      "1774046/1774046 [==============================] - 6s 3us/step - loss: 0.4722 - val_loss: 0.4665\n",
      "Epoch 33/50\n",
      "1774046/1774046 [==============================] - 6s 3us/step - loss: 0.4718 - val_loss: 0.4660\n",
      "Epoch 34/50\n",
      "1774046/1774046 [==============================] - 5s 3us/step - loss: 0.4715 - val_loss: 0.4656\n",
      "Epoch 35/50\n",
      "1774046/1774046 [==============================] - 6s 3us/step - loss: 0.4711 - val_loss: 0.4655\n",
      "Epoch 36/50\n",
      "1774046/1774046 [==============================] - 5s 3us/step - loss: 0.4707 - val_loss: 0.4649\n",
      "Epoch 37/50\n",
      "1774046/1774046 [==============================] - 5s 3us/step - loss: 0.4704 - val_loss: 0.4639\n",
      "Epoch 38/50\n",
      "1774046/1774046 [==============================] - 5s 3us/step - loss: 0.4700 - val_loss: 0.4637\n",
      "Epoch 39/50\n",
      "1774046/1774046 [==============================] - 5s 3us/step - loss: 0.4696 - val_loss: 0.4630\n",
      "Epoch 40/50\n",
      "1774046/1774046 [==============================] - 5s 3us/step - loss: 0.4693 - val_loss: 0.4629\n",
      "Epoch 41/50\n",
      "1774046/1774046 [==============================] - 5s 3us/step - loss: 0.4690 - val_loss: 0.4626\n",
      "Epoch 42/50\n",
      "1774046/1774046 [==============================] - 5s 3us/step - loss: 0.4686 - val_loss: 0.4628\n",
      "Epoch 43/50\n",
      "1774046/1774046 [==============================] - 5s 3us/step - loss: 0.4684 - val_loss: 0.4614\n",
      "Epoch 44/50\n",
      "1774046/1774046 [==============================] - 6s 3us/step - loss: 0.4681 - val_loss: 0.4614\n",
      "Epoch 45/50\n",
      "1774046/1774046 [==============================] - 6s 3us/step - loss: 0.4677 - val_loss: 0.4616\n",
      "Epoch 46/50\n",
      "1774046/1774046 [==============================] - 6s 3us/step - loss: 0.4674 - val_loss: 0.4606\n",
      "Epoch 47/50\n",
      "1774046/1774046 [==============================] - 6s 3us/step - loss: 0.4672 - val_loss: 0.4599\n",
      "Epoch 48/50\n",
      "1774046/1774046 [==============================] - 6s 3us/step - loss: 0.4669 - val_loss: 0.4592\n",
      "Epoch 49/50\n",
      "1774046/1774046 [==============================] - 5s 3us/step - loss: 0.4665 - val_loss: 0.4590\n",
      "Epoch 50/50\n",
      "1774046/1774046 [==============================] - 5s 3us/step - loss: 0.4664 - val_loss: 0.4585\n"
     ]
    },
    {
     "data": {
      "text/plain": [
       "<keras.callbacks.History at 0x196b8a69588>"
      ]
     },
     "execution_count": 77,
     "metadata": {},
     "output_type": "execute_result"
    }
   ],
   "source": [
    "X_train, X_test, y_train, y_test = train_test_split(X, y, test_size=0.1)\n",
    "\n",
    "model.compile(loss='binary_crossentropy', optimizer=optimizer)\n",
    "\n",
    "from time import time\n",
    "\n",
    "tensorboard = TensorBoard(log_dir=\"logs/{}\".format(time()))\n",
    "early_stopping = EarlyStopping(monitor='val_loss', min_delta=0, patience=3, verbose=0, mode='auto')\n",
    "\n",
    "model.fit(X_train, y_train,\n",
    "          validation_data=(X_test,y_test), \n",
    "          epochs=50, \n",
    "          verbose=1, \n",
    "          batch_size=10000, \n",
    "          callbacks=[tensorboard,early_stopping])"
   ]
  },
  {
   "cell_type": "code",
   "execution_count": 57,
   "metadata": {},
   "outputs": [],
   "source": [
    "model.save('logloss.h5')"
   ]
  },
  {
   "cell_type": "code",
   "execution_count": 78,
   "metadata": {},
   "outputs": [],
   "source": [
    "y_pred = model.predict(X_test)"
   ]
  },
  {
   "cell_type": "code",
   "execution_count": 79,
   "metadata": {},
   "outputs": [
    {
     "name": "stdout",
     "output_type": "stream",
     "text": [
      "Test Accuracy: 0.575211676314\n",
      "Test F1: 0.434996187559\n",
      "Test Precision: 0.299755419367\n",
      "Test AP: 0.28037462285\n",
      "Test Recall: 0.792588767581\n",
      "Test AUC: 0.708281717513\n"
     ]
    }
   ],
   "source": [
    "ypt = y_pred>0.2\n",
    "print ('Test Accuracy:',accuracy_score(y_test,ypt))\n",
    "print ('Test F1:',f1_score(y_test,ypt))\n",
    "print ('Test Precision:',precision_score(y_test,ypt))\n",
    "print ('Test AP:',average_precision_score(y_test,ypt))\n",
    "print ('Test Recall:',recall_score(y_test,ypt))\n",
    "print ('Test AUC:',roc_auc_score(y_test,y_pred))"
   ]
  },
  {
   "cell_type": "code",
   "execution_count": 80,
   "metadata": {},
   "outputs": [
    {
     "data": {
      "text/plain": [
       "<matplotlib.legend.Legend at 0x196d5f1aef0>"
      ]
     },
     "execution_count": 80,
     "metadata": {},
     "output_type": "execute_result"
    },
    {
     "data": {
      "image/png": "[encoded data removed]",
      "text/plain": [
       "<matplotlib.figure.Figure at 0x196cc5d7f98>"
      ]
     },
     "metadata": {},
     "output_type": "display_data"
    }
   ],
   "source": [
    "precision,recall,thresholds = precision_recall_curve(y_test,y_pred)\n",
    "\n",
    "plt.plot(thresholds,precision[:-1],'r-',label='P (DNN)',color='orange',lw=3)\n",
    "plt.plot(thresholds,recall[:-1],'r-',label='R (DNN)',color='steelblue',lw=3)\n",
    "plt.gca().set_xbound(lower=0,upper=1)\n",
    "plt.grid()\n",
    "plt.legend()"
   ]
  },
  {
   "cell_type": "code",
   "execution_count": 81,
   "metadata": {},
   "outputs": [
    {
     "data": {
      "text/plain": [
       "<matplotlib.legend.Legend at 0x196cc682ba8>"
      ]
     },
     "execution_count": 81,
     "metadata": {},
     "output_type": "execute_result"
    },
    {
     "data": {
      "text/plain": [
       "<matplotlib.figure.Figure at 0x196d5f004e0>"
      ]
     },
     "metadata": {},
     "output_type": "display_data"
    },
    {
     "data": {
      "image/png": "[encoded data removed]",
      "text/plain": [
       "<matplotlib.figure.Figure at 0x196d5f004a8>"
      ]
     },
     "metadata": {},
     "output_type": "display_data"
    }
   ],
   "source": [
    "plt.figure(figsize=(15,15))\n",
    "\n",
    "precision,recall,thresholds = precision_recall_curve(y_test,y_pred)\n",
    "\n",
    "fig,ax = plt.subplots()\n",
    "plt.plot(precision,recall,label='Precision vs Recall',lw=3)\n",
    "\n",
    "ax.set_xbound(lower=0.2,upper=1.0)\n",
    "ax.set_ybound(lower=0.01,upper=1.0)\n",
    "plt.grid()\n",
    "plt.legend()"
   ]
  },
  {
   "cell_type": "code",
   "execution_count": 82,
   "metadata": {},
   "outputs": [
    {
     "data": {
      "text/plain": [
       "(array([  3733.,   9207.,  11190.,  11213.,   4507.,   1299.,   1076.,\n",
       "          1613.,   3527.,   4191.,   3793.,   3604.,   3362.,   3181.,\n",
       "          3097.,   3087.,   3121.,   3479.,   3767.,   3394.,   2807.,\n",
       "          3123.,   3755.,   4180.,   4475.,   4795.,   4845.,   4746.,\n",
       "          4745.,   5279.,   5852.,   6678.,   7288.,   7131.,   6785.,\n",
       "          6260.,   5646.,   5296.,   4868.,   4069.,   3374.,   2203.,\n",
       "          1334.,    732.,    502.,    429.,    241.,    146.,     67.,\n",
       "            25.]),\n",
       " array([ 0.03145028,  0.03930844,  0.04716661,  0.05502477,  0.06288294,\n",
       "         0.0707411 ,  0.07859926,  0.08645743,  0.09431559,  0.10217376,\n",
       "         0.11003192,  0.11789008,  0.12574825,  0.13360641,  0.14146458,\n",
       "         0.14932274,  0.15718091,  0.16503907,  0.17289723,  0.1807554 ,\n",
       "         0.18861356,  0.19647173,  0.20432989,  0.21218805,  0.22004622,\n",
       "         0.22790438,  0.23576255,  0.24362071,  0.25147888,  0.25933704,\n",
       "         0.2671952 ,  0.27505337,  0.28291153,  0.2907697 ,  0.29862786,\n",
       "         0.30648602,  0.31434419,  0.32220235,  0.33006052,  0.33791868,\n",
       "         0.34577685,  0.35363501,  0.36149317,  0.36935134,  0.3772095 ,\n",
       "         0.38506767,  0.39292583,  0.40078399,  0.40864216,  0.41650032,\n",
       "         0.42435849]),\n",
       " <a list of 50 Patch objects>)"
      ]
     },
     "execution_count": 82,
     "metadata": {},
     "output_type": "execute_result"
    },
    {
     "data": {
      "image/png": "[encoded data removed]",
      "text/plain": [
       "<matplotlib.figure.Figure at 0x196b9b7d860>"
      ]
     },
     "metadata": {},
     "output_type": "display_data"
    }
   ],
   "source": [
    "plt.figure()\n",
    "plt.hist(y_pred,50)"
   ]
  },
  {
   "cell_type": "code",
   "execution_count": null,
   "metadata": {
    "collapsed": true
   },
   "outputs": [],
   "source": []
  }
 ],
 "metadata": {
  "kernelspec": {
   "display_name": "Python 3",
   "language": "python",
   "name": "python3"
  },
  "language_info": {
   "codemirror_mode": {
    "name": "ipython",
    "version": 3
   },
   "file_extension": ".py",
   "mimetype": "text/x-python",
   "name": "python",
   "nbconvert_exporter": "python",
   "pygments_lexer": "ipython3",
   "version": "3.6.2"
  }
 },
 "nbformat": 4,
 "nbformat_minor": 2
}
