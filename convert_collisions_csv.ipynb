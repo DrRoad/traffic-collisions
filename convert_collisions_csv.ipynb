{
 "cells": [
  {
   "cell_type": "code",
   "execution_count": 4,
   "metadata": {
    "collapsed": true
   },
   "outputs": [],
   "source": [
    "import os\n",
    "import arcpy"
   ]
  },
  {
   "cell_type": "markdown",
   "metadata": {},
   "source": [
    "Setting workspace to be my project GDB"
   ]
  },
  {
   "cell_type": "code",
   "execution_count": 41,
   "metadata": {},
   "outputs": [],
   "source": [
    "# workspace\n",
    "arcpy.env.workspace = r'C:\\Users\\dani9510\\Documents\\ArcGIS\\Projects\\Utah Accidents Demo\\Utah Accidents Demo.gdb'\n",
    "arcpy.env.overwriteOutput = True"
   ]
  },
  {
   "cell_type": "markdown",
   "metadata": {},
   "source": [
    "First we need to parse the crashes CSV file. \n",
    "\n",
    "Update this path to wherever the csv is stored for you"
   ]
  },
  {
   "cell_type": "code",
   "execution_count": 42,
   "metadata": {},
   "outputs": [],
   "source": [
    "collisions_csv = r'C:/Users/dani9510/Documents/Projects/Vehicle Accident Prediction/Utah crashes_2010-2017.csv'\n",
    "res = arcpy.TableToTable_conversion(collisions_csv,arcpy.env.workspace,'collisions')"
   ]
  },
  {
   "cell_type": "markdown",
   "metadata": {},
   "source": [
    "This needs to be turned into a layer to do further GP"
   ]
  },
  {
   "cell_type": "code",
   "execution_count": 47,
   "metadata": {},
   "outputs": [],
   "source": [
    "collisions_csv = r'C:/Users/dani9510/Documents/Projects/Vehicle Accident Prediction/Utah crashes_2010-2017.csv'\n",
    "in_sr = arcpy.SpatialReference(4269)\n",
    "res = arcpy.MakeXYEventLayer_management('collisions',\n",
    "        in_x_field='Longitude',\n",
    "        in_y_field='Latitude',\n",
    "        out_layer='collisions_with_xy',\n",
    "        spatial_reference=in_sr)"
   ]
  },
  {
   "cell_type": "markdown",
   "metadata": {},
   "source": [
    "Since the data is actually in UTM, we need to add a field to process"
   ]
  },
  {
   "cell_type": "code",
   "execution_count": 44,
   "metadata": {},
   "outputs": [],
   "source": [
    "res = arcpy.AddField_management(\n",
    "        in_table='collisions_with_xy',\n",
    "        field_name='UTM',\n",
    "        field_type='String')"
   ]
  },
  {
   "cell_type": "markdown",
   "metadata": {},
   "source": [
    "Next we need to calculate the UTM field from the x/y fields"
   ]
  },
  {
   "cell_type": "code",
   "execution_count": 45,
   "metadata": {},
   "outputs": [],
   "source": [
    "expression =\"utm(!Longitude!,!Latitude!)\"\n",
    "code_block =\\\n",
    "\"\"\"\n",
    "def utm(x,y):\n",
    "    try:\n",
    "        return \"12N{}{}\".format(int(x),int(y))\n",
    "    except:\n",
    "        return None\n",
    "\"\"\"\n",
    "res = arcpy.CalculateField_management(\n",
    "        in_table='collisions_with_xy',\n",
    "        field='UTM',\n",
    "        expression=expression,\n",
    "        code_block=code_block)"
   ]
  },
  {
   "cell_type": "markdown",
   "metadata": {},
   "source": [
    "Finally, convert the UTM coordinates to WGS84 decimal lat/lon"
   ]
  },
  {
   "cell_type": "code",
   "execution_count": 46,
   "metadata": {},
   "outputs": [],
   "source": [
    "res = arcpy.ConvertCoordinateNotation_management(\n",
    "        in_table='collisions_with_xy',\n",
    "        out_featureclass='collisions_with_xy_converted',\n",
    "        x_field='UTM',\n",
    "        input_coordinate_format='UTM_ZONES')"
   ]
  },
  {
   "cell_type": "code",
   "execution_count": null,
   "metadata": {
    "collapsed": true
   },
   "outputs": [],
   "source": []
  }
 ],
 "metadata": {
  "kernelspec": {
   "display_name": "Python 3",
   "language": "python",
   "name": "python3"
  },
  "language_info": {
   "codemirror_mode": {
    "name": "ipython",
    "version": 3
   },
   "file_extension": ".py",
   "mimetype": "text/x-python",
   "name": "python",
   "nbconvert_exporter": "python",
   "pygments_lexer": "ipython3",
   "version": "3.6.2"
  }
 },
 "nbformat": 4,
 "nbformat_minor": 2
}
