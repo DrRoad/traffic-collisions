{
 "cells": [
  {
   "cell_type": "code",
   "execution_count": 12,
   "metadata": {
    "collapsed": true
   },
   "outputs": [],
   "source": [
    "import pandas as pd\n",
    "from datetime import datetime"
   ]
  },
  {
   "cell_type": "code",
   "execution_count": 13,
   "metadata": {
    "collapsed": true
   },
   "outputs": [],
   "source": [
    "pdf = pd.read_csv('training_data/utah_positive_examples.csv')\n",
    "ndf = pd.read_csv('training_data/utah_negative_examples.csv')\n",
    "wdf = pd.read_csv('utah_weather_2010-2018_grouped.csv')"
   ]
  },
  {
   "cell_type": "code",
   "execution_count": 14,
   "metadata": {},
   "outputs": [
    {
     "data": {
      "text/html": [
       "<div>\n",
       "<style scoped>\n",
       "    .dataframe tbody tr th:only-of-type {\n",
       "        vertical-align: middle;\n",
       "    }\n",
       "\n",
       "    .dataframe tbody tr th {\n",
       "        vertical-align: top;\n",
       "    }\n",
       "\n",
       "    .dataframe thead th {\n",
       "        text-align: right;\n",
       "    }\n",
       "</style>\n",
       "<table border=\"1\" class=\"dataframe\">\n",
       "  <thead>\n",
       "    <tr style=\"text-align: right;\">\n",
       "      <th></th>\n",
       "      <th>timestamp</th>\n",
       "      <th>SegID</th>\n",
       "      <th>station_id</th>\n",
       "      <th>KDE_Severity</th>\n",
       "      <th>PREDIR</th>\n",
       "      <th>STREETTYPE</th>\n",
       "      <th>SPEED</th>\n",
       "      <th>ONEWAY</th>\n",
       "      <th>SURFTYPE</th>\n",
       "      <th>SURFWIDTH</th>\n",
       "      <th>aadt_vn</th>\n",
       "      <th>Sinuosity</th>\n",
       "      <th>AtIntersection</th>\n",
       "      <th>hour</th>\n",
       "      <th>weekday</th>\n",
       "      <th>month</th>\n",
       "      <th>target</th>\n",
       "    </tr>\n",
       "  </thead>\n",
       "  <tbody>\n",
       "    <tr>\n",
       "      <th>0</th>\n",
       "      <td>2013-07-22 13:00:00</td>\n",
       "      <td>377118.0</td>\n",
       "      <td>7.247969e+10</td>\n",
       "      <td>NaN</td>\n",
       "      <td>N</td>\n",
       "      <td>RD</td>\n",
       "      <td>25</td>\n",
       "      <td>0</td>\n",
       "      <td></td>\n",
       "      <td>20</td>\n",
       "      <td>896.0</td>\n",
       "      <td>1.000017</td>\n",
       "      <td>0</td>\n",
       "      <td>13</td>\n",
       "      <td>0</td>\n",
       "      <td>7</td>\n",
       "      <td>0</td>\n",
       "    </tr>\n",
       "    <tr>\n",
       "      <th>1</th>\n",
       "      <td>2017-05-28 15:00:00</td>\n",
       "      <td>383186.0</td>\n",
       "      <td>7.257242e+10</td>\n",
       "      <td>NaN</td>\n",
       "      <td></td>\n",
       "      <td>FWY</td>\n",
       "      <td>65</td>\n",
       "      <td>1</td>\n",
       "      <td></td>\n",
       "      <td>0</td>\n",
       "      <td>10661.0</td>\n",
       "      <td>1.008527</td>\n",
       "      <td>0</td>\n",
       "      <td>15</td>\n",
       "      <td>6</td>\n",
       "      <td>5</td>\n",
       "      <td>0</td>\n",
       "    </tr>\n",
       "    <tr>\n",
       "      <th>2</th>\n",
       "      <td>2014-07-28 00:00:00</td>\n",
       "      <td>359823.0</td>\n",
       "      <td>7.257202e+10</td>\n",
       "      <td>NaN</td>\n",
       "      <td>W</td>\n",
       "      <td></td>\n",
       "      <td>40</td>\n",
       "      <td>0</td>\n",
       "      <td></td>\n",
       "      <td>0</td>\n",
       "      <td>13694.0</td>\n",
       "      <td>1.000000</td>\n",
       "      <td>0</td>\n",
       "      <td>0</td>\n",
       "      <td>0</td>\n",
       "      <td>7</td>\n",
       "      <td>0</td>\n",
       "    </tr>\n",
       "    <tr>\n",
       "      <th>3</th>\n",
       "      <td>2016-10-15 10:00:00</td>\n",
       "      <td>104023.0</td>\n",
       "      <td>7.257242e+10</td>\n",
       "      <td>NaN</td>\n",
       "      <td>N</td>\n",
       "      <td></td>\n",
       "      <td>25</td>\n",
       "      <td>0</td>\n",
       "      <td></td>\n",
       "      <td>0</td>\n",
       "      <td>NaN</td>\n",
       "      <td>1.000000</td>\n",
       "      <td>0</td>\n",
       "      <td>10</td>\n",
       "      <td>5</td>\n",
       "      <td>10</td>\n",
       "      <td>0</td>\n",
       "    </tr>\n",
       "    <tr>\n",
       "      <th>4</th>\n",
       "      <td>2015-12-14 22:00:00</td>\n",
       "      <td>342704.0</td>\n",
       "      <td>7.257202e+10</td>\n",
       "      <td>NaN</td>\n",
       "      <td>E</td>\n",
       "      <td>FWY</td>\n",
       "      <td>65</td>\n",
       "      <td>2</td>\n",
       "      <td></td>\n",
       "      <td>0</td>\n",
       "      <td>329.0</td>\n",
       "      <td>1.029919</td>\n",
       "      <td>0</td>\n",
       "      <td>22</td>\n",
       "      <td>0</td>\n",
       "      <td>12</td>\n",
       "      <td>0</td>\n",
       "    </tr>\n",
       "  </tbody>\n",
       "</table>\n",
       "</div>"
      ],
      "text/plain": [
       "             timestamp     SegID    station_id  KDE_Severity PREDIR  \\\n",
       "0  2013-07-22 13:00:00  377118.0  7.247969e+10           NaN      N   \n",
       "1  2017-05-28 15:00:00  383186.0  7.257242e+10           NaN          \n",
       "2  2014-07-28 00:00:00  359823.0  7.257202e+10           NaN      W   \n",
       "3  2016-10-15 10:00:00  104023.0  7.257242e+10           NaN      N   \n",
       "4  2015-12-14 22:00:00  342704.0  7.257202e+10           NaN      E   \n",
       "\n",
       "  STREETTYPE  SPEED  ONEWAY SURFTYPE  SURFWIDTH  aadt_vn  Sinuosity  \\\n",
       "0         RD     25       0                  20    896.0   1.000017   \n",
       "1        FWY     65       1                   0  10661.0   1.008527   \n",
       "2                40       0                   0  13694.0   1.000000   \n",
       "3                25       0                   0      NaN   1.000000   \n",
       "4        FWY     65       2                   0    329.0   1.029919   \n",
       "\n",
       "   AtIntersection  hour  weekday  month  target  \n",
       "0               0    13        0      7       0  \n",
       "1               0    15        6      5       0  \n",
       "2               0     0        0      7       0  \n",
       "3               0    10        5     10       0  \n",
       "4               0    22        0     12       0  "
      ]
     },
     "execution_count": 14,
     "metadata": {},
     "output_type": "execute_result"
    }
   ],
   "source": [
    "ndf.head()"
   ]
  },
  {
   "cell_type": "code",
   "execution_count": 15,
   "metadata": {
    "collapsed": true
   },
   "outputs": [],
   "source": [
    "pdf['timestamp'] = pd.to_datetime(pdf.timestamp)\n",
    "ndf['timestamp'] = pd.to_datetime(ndf.timestamp)\n",
    "wdf['timestamp'] = pd.to_datetime(wdf.timestamp)\n"
   ]
  },
  {
   "cell_type": "code",
   "execution_count": 16,
   "metadata": {
    "collapsed": true
   },
   "outputs": [],
   "source": [
    "def add_join_key(df):\n",
    "    df['join_key'] = df.station_id.map(int).map(str)+df.timestamp.map(datetime.isoformat)\n",
    "    df = df.set_index('join_key')\n",
    "    return df"
   ]
  },
  {
   "cell_type": "code",
   "execution_count": 17,
   "metadata": {
    "collapsed": true
   },
   "outputs": [],
   "source": [
    "pdf = add_join_key(pdf)\n",
    "ndf = add_join_key(ndf)\n",
    "wdf = add_join_key(wdf)"
   ]
  },
  {
   "cell_type": "code",
   "execution_count": 18,
   "metadata": {
    "collapsed": true
   },
   "outputs": [],
   "source": [
    "pdf = pdf.join(wdf.drop(columns=['timestamp', 'station_id']))\n",
    "ndf = ndf.join(wdf.drop(columns=['timestamp', 'station_id']))"
   ]
  },
  {
   "cell_type": "code",
   "execution_count": 19,
   "metadata": {
    "collapsed": true
   },
   "outputs": [],
   "source": [
    "tset = pdf.append(ndf)"
   ]
  },
  {
   "cell_type": "code",
   "execution_count": 20,
   "metadata": {
    "collapsed": true
   },
   "outputs": [],
   "source": [
    "tset.to_csv('training_data/utah_training_set.csv')"
   ]
  },
  {
   "cell_type": "code",
   "execution_count": null,
   "metadata": {
    "collapsed": true
   },
   "outputs": [],
   "source": []
  }
 ],
 "metadata": {
  "kernelspec": {
   "display_name": "Python 3",
   "language": "python",
   "name": "python3"
  },
  "language_info": {
   "codemirror_mode": {
    "name": "ipython",
    "version": 3
   },
   "file_extension": ".py",
   "mimetype": "text/x-python",
   "name": "python",
   "nbconvert_exporter": "python",
   "pygments_lexer": "ipython3",
   "version": "3.6.2"
  }
 },
 "nbformat": 4,
 "nbformat_minor": 2
}
